{
 "cells": [
  {
   "cell_type": "markdown",
   "metadata": {},
   "source": [
    "### Choosing independant variables\n",
    "\n",
    "1. ***'Charge Amount'*** might actually be part of how Customer Value is calculated, thus it'll be excluded from the independent variables. \n",
    "\n",
    "2. ***'Freq. of use'*** This is most likely directly used to calculate Customer Value, the more the customer uses the service, the more he value he has.\n",
    "\n",
    "3. ***'Status'*** (active/non-active), this actually would've been much more helpful if I had the duration of being active, as Status might help define a Customer's value, for example: \"Active for 2 years, high value\", \"Active for 2 weeks, low value\", hence, it'll be removed, along with those two reasons as well: \n",
    "    -  It might create noise in our model since all high-value customers must be active, but not all active customers have high value\n",
    "    -  The relationship might be too deterministic - being non-active almost automatically means lower Customer Value.\n",
    "\n",
    "4. ***'Age'*** is clearly independent of Cutomer value.\n",
    "\n",
    "5. ***'Plan_pre-paid'*** is an independent predictor with Charge Amount.\n",
    "\n",
    "6. ***'Call Failure'*** isn't related to how to define a Customer value, so independent.\n",
    "\n",
    "7. ***'Complains'*** is an independent predictor compared with Charge Amount\n",
    "\n",
    "8. ***'Distinct Called Numbers'*** this cannot define a Customer Value so it's independent.\n",
    "\n",
    "\n",
    "### Final chosen independent variables \n",
    "\n",
    "1. ***Age***\n",
    "2. ***Plan_pre-paid***\n",
    "3. ***Call Failure***\n",
    "4. ***Complains***\n",
    "5. ***Distinct Called Numbers***\n"
   ]
  }
 ],
 "metadata": {
  "kernelspec": {
   "display_name": "Python 3",
   "language": "python",
   "name": "python3"
  },
  "language_info": {
   "name": "python",
   "version": "3.10.12"
  }
 },
 "nbformat": 4,
 "nbformat_minor": 2
}
