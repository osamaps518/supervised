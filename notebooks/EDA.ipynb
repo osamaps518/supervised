{
 "cells": [
  {
   "cell_type": "code",
   "execution_count": 31,
   "metadata": {},
   "outputs": [],
   "source": [
    "import pandas as pd\n",
    "import numpy as np\n",
    "import seaborn as sns\n",
    "import matplotlib.pyplot as plt\n",
    "\n",
    "# Read the CSV file\n",
    "data_frame = pd.read_csv('../data/Customer_Churn.csv')\n"
   ]
  },
  {
   "cell_type": "markdown",
   "metadata": {},
   "source": [
    "This is a detailed info about the features of the dataset, we can learn many things from this, for example, we get a sense of which are the nomimnal (Categorical) features (with object datatypes) and which are not. It also shows us how many records (rows) we have in this dataset, in this case, it's 3150."
   ]
  },
  {
   "cell_type": "code",
   "execution_count": 32,
   "metadata": {},
   "outputs": [
    {
     "name": "stdout",
     "output_type": "stream",
     "text": [
      "\n",
      "=== Dataset Info ===\n",
      "<class 'pandas.core.frame.DataFrame'>\n",
      "RangeIndex: 3150 entries, 0 to 3149\n",
      "Data columns (total 13 columns):\n",
      " #   Column                   Non-Null Count  Dtype  \n",
      "---  ------                   --------------  -----  \n",
      " 0   ID                       3150 non-null   int64  \n",
      " 1   Call Failure             3150 non-null   int64  \n",
      " 2   Complains                3150 non-null   object \n",
      " 3   Charge Amount            3150 non-null   int64  \n",
      " 4   Freq. of use             3150 non-null   int64  \n",
      " 5   Freq. of SMS             3150 non-null   int64  \n",
      " 6   Distinct Called Numbers  3150 non-null   int64  \n",
      " 7   Age Group                3150 non-null   int64  \n",
      " 8   Plan                     3150 non-null   object \n",
      " 9   Status                   3150 non-null   object \n",
      " 10  Age                      3150 non-null   int64  \n",
      " 11  Customer Value           3150 non-null   float64\n",
      " 12  Churn                    3150 non-null   object \n",
      "dtypes: float64(1), int64(8), object(4)\n",
      "memory usage: 320.0+ KB\n",
      "None\n"
     ]
    }
   ],
   "source": [
    "\n",
    "\n",
    "# Basic information about the dataset\n",
    "print(\"\\n=== Dataset Info ===\")\n",
    "print(data_frame.info())  # Shows data types and missing values\n"
   ]
  },
  {
   "cell_type": "code",
   "execution_count": 33,
   "metadata": {},
   "outputs": [
    {
     "name": "stdout",
     "output_type": "stream",
     "text": [
      "\n",
      "=== Summary Statistics ===\n",
      "            ID  Call Failure  Charge Amount  Freq. of use  Freq. of SMS  \\\n",
      "count  3150.00       3150.00        3150.00       3150.00       3150.00   \n",
      "mean   1575.50          7.63         129.88         69.46         73.17   \n",
      "std     909.47          7.26         102.79         57.41        112.24   \n",
      "min       1.00          0.00          20.00          0.00          0.00   \n",
      "25%     788.25          1.00          50.00         27.00          6.00   \n",
      "50%    1575.50          6.00         100.00         54.00         21.00   \n",
      "75%    2362.75         12.00         200.00         95.00         87.00   \n",
      "max    3150.00         36.00         400.00        255.00        522.00   \n",
      "\n",
      "       Distinct Called Numbers  Age Group      Age  Customer Value  \n",
      "count                  3150.00    3150.00  3150.00         3150.00  \n",
      "mean                     23.51       2.83    31.00          470.97  \n",
      "std                      17.22       0.89     8.83          517.02  \n",
      "min                       0.00       1.00    15.00            0.00  \n",
      "25%                      10.00       2.00    25.00          113.80  \n",
      "50%                      21.00       3.00    30.00          228.48  \n",
      "75%                      34.00       3.00    30.00          788.39  \n",
      "max                      97.00       5.00    55.00         2165.28  \n"
     ]
    }
   ],
   "source": [
    "\n",
    "# Summary statistics for all numeric columns\n",
    "print(\"\\n=== Summary Statistics ===\")\n",
    "print(data_frame.describe().round(2))  # Shows count, mean, std, min, 25%, 50%, 75%, max\n"
   ]
  },
  {
   "cell_type": "markdown",
   "metadata": {},
   "source": [
    "This is pretty helpful, as we learn there's no missing values in this specific dataset, which saves us the trouble of trying to handle them."
   ]
  },
  {
   "cell_type": "code",
   "execution_count": 34,
   "metadata": {},
   "outputs": [
    {
     "name": "stdout",
     "output_type": "stream",
     "text": [
      "\n",
      "=== Missing Values ===\n",
      "ID                         0\n",
      "Call Failure               0\n",
      "Complains                  0\n",
      "Charge Amount              0\n",
      "Freq. of use               0\n",
      "Freq. of SMS               0\n",
      "Distinct Called Numbers    0\n",
      "Age Group                  0\n",
      "Plan                       0\n",
      "Status                     0\n",
      "Age                        0\n",
      "Customer Value             0\n",
      "Churn                      0\n",
      "dtype: int64\n"
     ]
    }
   ],
   "source": [
    "# Check for missing values\n",
    "print(\"\\n=== Missing Values ===\")\n",
    "print(data_frame.isnull().sum())\n"
   ]
  },
  {
   "cell_type": "markdown",
   "metadata": {},
   "source": [
    "Sample of the dataset now that we understand the main characterastics of the dataset."
   ]
  },
  {
   "cell_type": "code",
   "execution_count": 35,
   "metadata": {},
   "outputs": [
    {
     "name": "stdout",
     "output_type": "stream",
     "text": [
      "\n",
      "=== First Few Rows ===\n",
      "   ID  Call Failure Complains  Charge Amount  Freq. of use  Freq. of SMS  \\\n",
      "0   1             3        no            100            25            32   \n",
      "1   2             8        no            100            65             0   \n",
      "2   3             0        no            200             0             0   \n",
      "3   4            10        no            100            54           327   \n",
      "4   5            10        no            100            60             0   \n",
      "\n",
      "   Distinct Called Numbers  Age Group      Plan      Status  Age  \\\n",
      "0                       11          3  pre-paid      active   30   \n",
      "1                       13          2  pre-paid      active   25   \n",
      "2                        0          2  pre-paid  not-active   25   \n",
      "3                       20          2  pre-paid      active   25   \n",
      "4                       31          1  pre-paid      active   15   \n",
      "\n",
      "   Customer Value Churn  \n",
      "0         193.120    no  \n",
      "1         194.400   yes  \n",
      "2           0.000   yes  \n",
      "3        1579.140   yes  \n",
      "4         227.865   yes  \n"
     ]
    }
   ],
   "source": [
    "\n",
    "# Display first few rows\n",
    "print(\"\\n=== First Few Rows ===\")\n",
    "print(data_frame.head())\n",
    "\n"
   ]
  },
  {
   "cell_type": "markdown",
   "metadata": {},
   "source": [
    "This helps us see how often does the customers churn, for example, notice that even though most of the customers don't complain (92%), it's not a good indicator that they're satisfied, as we see in the churn results, that around 84% of them do churn...we can see as well that most customers favour pre-paid plan(92%) over post-paid. "
   ]
  },
  {
   "cell_type": "code",
   "execution_count": 36,
   "metadata": {},
   "outputs": [
    {
     "name": "stdout",
     "output_type": "stream",
     "text": [
      "\n",
      "=== Categorical Columns Summary ===\n",
      "\n",
      "Counts for Complains:\n",
      "Complains\n",
      "no     2909\n",
      "yes     241\n",
      "Name: count, dtype: int64\n",
      "\n",
      "Percentages for Complains:\n",
      "no: 92.35%\n",
      "yes: 7.65%\n",
      "\n",
      "Counts for Plan:\n",
      "Plan\n",
      "pre-paid     2905\n",
      "post-paid     245\n",
      "Name: count, dtype: int64\n",
      "\n",
      "Percentages for Plan:\n",
      "pre-paid: 92.22%\n",
      "post-paid: 7.78%\n",
      "\n",
      "Counts for Status:\n",
      "Status\n",
      "active        2368\n",
      "not-active     782\n",
      "Name: count, dtype: int64\n",
      "\n",
      "Percentages for Status:\n",
      "active: 75.17%\n",
      "not-active: 24.83%\n",
      "\n",
      "Counts for Churn:\n",
      "Churn\n",
      "yes    2655\n",
      "no      495\n",
      "Name: count, dtype: int64\n",
      "\n",
      "Percentages for Churn:\n",
      "yes: 84.29%\n",
      "no: 15.71%\n"
     ]
    }
   ],
   "source": [
    "# Basic statistics for categorical columns\n",
    "print(\"\\n=== Categorical Columns Summary ===\")\n",
    "categorical_columns = data_frame.select_dtypes(include=['object']).columns\n",
    "for col in categorical_columns:\n",
    "    print(f\"\\nCounts for {col}:\")\n",
    "    print(data_frame[col].value_counts())\n",
    "    print(f\"\\nPercentages for {col}:\")\n",
    "    counts = data_frame[col].value_counts(normalize=True) * 100\n",
    "    for value, percentage in counts.items():\n",
    "        print(f\"{value}: {percentage:.2f}%\") \n"
   ]
  },
  {
   "cell_type": "markdown",
   "metadata": {},
   "source": [
    "A visualised distribution of the churn class label. (task 2)"
   ]
  },
  {
   "cell_type": "code",
   "execution_count": 37,
   "metadata": {},
   "outputs": [
    {
     "name": "stderr",
     "output_type": "stream",
     "text": [
      "/tmp/ipykernel_119577/1728760192.py:5: FutureWarning: \n",
      "\n",
      "Passing `palette` without assigning `hue` is deprecated and will be removed in v0.14.0. Assign the `x` variable to `hue` and set `legend=False` for the same effect.\n",
      "\n",
      "  sns.countplot(data=data_file, x='Churn', ax=ax1, palette=['#ff9999', '#66b3ff'])\n"
     ]
    },
    {
     "data": {
      "image/png": "[encoded data removed]",
      "text/plain": [
       "<Figure size 1500x500 with 1 Axes>"
      ]
     },
     "metadata": {},
     "output_type": "display_data"
    }
   ],
   "source": [
    "# Create a figure with multiple subplots\n",
    "fig, (ax1) = plt.subplots(1,figsize=(15, 5))\n",
    "\n",
    "# Plot 1: Bar plot of churn distribution\n",
    "sns.countplot(data=data_file, x='Churn', ax=ax1, palette=['#ff9999', '#66b3ff'])\n",
    "ax1.set_title('Distribution of Customer Churn')\n",
    "ax1.set_xlabel('Churn Status')\n",
    "ax1.set_ylabel('Count')\n",
    "\n",
    "# Add count labels on top of each bar\n",
    "for i in ax1.containers:\n",
    "    ax1.bar_label(i)\n"
   ]
  },
  {
   "cell_type": "markdown",
   "metadata": {},
   "source": [
    "Task 3:\n",
    "The Age group is the independant variable, presented on the x-axis. We can learn from this graph that people of Group ages 2 and 3, (ranges around 25-45) are the most people customers who are subscribed in the first place, and they're also the most customers to churn."
   ]
  },
  {
   "cell_type": "code",
   "execution_count": 43,
   "metadata": {},
   "outputs": [
    {
     "data": {
      "image/png": "[encoded data removed]",
      "text/plain": [
       "<Figure size 1200x600 with 1 Axes>"
      ]
     },
     "metadata": {},
     "output_type": "display_data"
    }
   ],
   "source": [
    "# Create a figure with appropriate size\n",
    "plt.figure(figsize=(12, 6))\n",
    "\n",
    "# Create a histogram showing churn distribution for each age group\n",
    "# Using sns.histplot for better visualization of categorical data\n",
    "sns.histplot(data=data_frame, \n",
    "            x='Age Group',\n",
    "            hue='Churn',\n",
    "            multiple=\"dodge\",  # This makes bars appear side by side\n",
    "            shrink=0.8)       # This adjusts the width of the bars\n",
    "\n",
    "# Customize the plot\n",
    "plt.title('Distribution of Churn by Age Group', fontsize=12, pad=15)\n",
    "plt.xlabel('Age Group', fontsize=10)\n",
    "plt.ylabel('Count of Customers', fontsize=10)\n",
    "\n",
    "# Add a grid for better readability\n",
    "plt.grid(axis='y', linestyle='--', alpha=0.7)\n",
    "\n",
    "# Adjust layout to prevent label cutoff\n",
    "plt.tight_layout()\n",
    "\n",
    "# Show the plot\n",
    "plt.show()"
   ]
  }
 ],
 "metadata": {
  "kernelspec": {
   "display_name": "ml-env",
   "language": "python",
   "name": "python3"
  },
  "language_info": {
   "codemirror_mode": {
    "name": "ipython",
    "version": 3
   },
   "file_extension": ".py",
   "mimetype": "text/x-python",
   "name": "python",
   "nbconvert_exporter": "python",
   "pygments_lexer": "ipython3",
   "version": "3.10.12"
  }
 },
 "nbformat": 4,
 "nbformat_minor": 2
}
